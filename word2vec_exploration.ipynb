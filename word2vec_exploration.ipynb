{
 "cells": [
  {
   "cell_type": "code",
   "execution_count": null,
   "metadata": {},
   "outputs": [],
   "source": [
    "# Remove warnings on Windows\n",
    "import warnings\n",
    "warnings.filterwarnings(action='ignore', category=UserWarning, module='gensim')\n",
    "\n",
    "# imports\n",
    "# import word2vec\n",
    "# imports needed and logging\n",
    "import gzip\n",
    "import gensim\n",
    "import numpy\n",
    "import pandas\n",
    "import logging\n",
    "logging.basicConfig(format='%(asctime)s: %(levelname)s: %(message)s', level=logging.INFO)\n"
   ]
  },
  {
   "cell_type": "code",
   "execution_count": null,
   "metadata": {},
   "outputs": [],
   "source": [
    "# Read input texts to train model\n",
    "\n",
    "# English texts\n",
    "#input_file = 'data/article_results.txt'\n",
    "\n",
    "# Ukranian texts\n",
    "input_file = 'puppeteer-scraper/texts.txt'"
   ]
  },
  {
   "cell_type": "code",
   "execution_count": null,
   "metadata": {
    "scrolled": false
   },
   "outputs": [],
   "source": [
    "def read_input(input_file):\n",
    "    \"\"\"This method reads the input file which is in txt format\"\"\"\n",
    "\n",
    "    logging.info(\"Start reading file {0}... this may take a while\".format(input_file))\n",
    "    with open(input_file, encoding=\"utf8\") as f:\n",
    "        for i, line in enumerate(f):\n",
    "            yield format_line(line)\n",
    "        logging.info(\"Done reading input file, bro. TOTAL LINES: {0}\".format(i))\n",
    "\n",
    "def format_line(line):\n",
    "    # Convert a document into a list of lowercase tokens,\n",
    "    # ignoring tokens that are too short or too long.\n",
    "    return gensim.utils.simple_preprocess(line)\n",
    "\n",
    "# read the tokenized reviews into a list\n",
    "# each review item becomes a serries of words\n",
    "# so this becomes a list of lists\n",
    "documents = list(read_input(input_file))\n",
    "logging.info(\"Read file complete and formatted list saved, bro!\")"
   ]
  },
  {
   "cell_type": "markdown",
   "metadata": {},
   "source": [
    "model.train PARAMS:\n",
    "\n",
    "size\n",
    "The size of the dense vector to represent each token or word. If you have very limited data, then size should be a much smaller value. If you have lots of data, its good to experiment with various sizes. A value of 100-150 has worked well for me.\n",
    "\n",
    "window\n",
    "The maximum distance between the target word and its neighboring word. If your neighbor's position is greater than the maximum window width to the left and the right, then, some neighbors are not considered as being related to the target word. In theory, a smaller window should give you terms that are more related. If you have lots of data, then the window size should not matter too much, as long as its a decent sized window.\n",
    "\n",
    "min_count\n",
    "Minimium frequency count of words. The model would ignore words that do not statisfy the min_count. Extremely infrequent words are usually unimportant, so its best to get rid of those. Unless your dataset is really tiny, this does not really affect the model.\n",
    "\n",
    "workers\n",
    "How many threads to use behind the scenes?"
   ]
  },
  {
   "cell_type": "code",
   "execution_count": null,
   "metadata": {
    "scrolled": true
   },
   "outputs": [],
   "source": [
    "# create a vocabulary\n",
    "model = gensim.models.Word2Vec(documents, size=150, window=10, min_count=2, workers=10)\n",
    "# start training a simple neural network with a single hidden layer\n",
    "model.train(documents,total_examples=len(documents),epochs=10)"
   ]
  },
  {
   "cell_type": "code",
   "execution_count": null,
   "metadata": {
    "scrolled": true
   },
   "outputs": [],
   "source": [
    "model.wv['trump']"
   ]
  },
  {
   "cell_type": "code",
   "execution_count": null,
   "metadata": {
    "scrolled": true
   },
   "outputs": [],
   "source": [
    "######## Save the model\n",
    "# model.save('articles.model')\n",
    "\n",
    "######## Load with:\n",
    "# model = gensim.models.word2vec.Word2Vec.load('articles.model')\n",
    "\n",
    "# now we can look for similar words:\n",
    "w1 = \"осел\"\n",
    "\n",
    "try:\n",
    "    model.wv.most_similar(positive=w1)\n",
    "except Exception as e:\n",
    "    logging.error(\"OOOOOPS brother, {0}\".format(e))\n",
    "\n"
   ]
  },
  {
   "cell_type": "code",
   "execution_count": null,
   "metadata": {},
   "outputs": [],
   "source": [
    "# similarity between two words\n",
    "# works by computing cosine similarity between two words\n",
    "print(model.wv.similarity(w1=\"осел\",w2=\"телевізор\"))"
   ]
  },
  {
   "cell_type": "code",
   "execution_count": null,
   "metadata": {},
   "outputs": [],
   "source": []
  }
 ],
 "metadata": {
  "kernelspec": {
   "display_name": "Python 3",
   "language": "python",
   "name": "python3"
  },
  "language_info": {
   "codemirror_mode": {
    "name": "ipython",
    "version": 3
   },
   "file_extension": ".py",
   "mimetype": "text/x-python",
   "name": "python",
   "nbconvert_exporter": "python",
   "pygments_lexer": "ipython3",
   "version": "3.6.5"
  }
 },
 "nbformat": 4,
 "nbformat_minor": 2
}
